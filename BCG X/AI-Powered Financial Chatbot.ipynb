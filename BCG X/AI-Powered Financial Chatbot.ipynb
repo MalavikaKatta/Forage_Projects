{
 "cells": [
  {
   "cell_type": "code",
   "execution_count": 28,
   "id": "e5e09148",
   "metadata": {},
   "outputs": [],
   "source": [
    "import pandas as pd"
   ]
  },
  {
   "cell_type": "code",
   "execution_count": 29,
   "id": "5dd66d2a",
   "metadata": {},
   "outputs": [],
   "source": [
    "df = pd.read_csv(r'C:\\Users\\malav\\OneDrive\\Desktop\\10K_Filings.csv')"
   ]
  },
  {
   "cell_type": "code",
   "execution_count": 30,
   "id": "d2261cf6",
   "metadata": {},
   "outputs": [],
   "source": [
    "cols_to_convert = ['Total Revenue', 'Net Income', 'Total Assets', 'Total Liabilities', 'Cash Flow']\n",
    "for col in cols_to_convert:\n",
    "    df[col] = df[col].replace('[\\$,]', '', regex=True).astype(float)"
   ]
  },
  {
   "cell_type": "code",
   "execution_count": 31,
   "id": "daebf38f",
   "metadata": {},
   "outputs": [
    {
     "name": "stdout",
     "output_type": "stream",
     "text": [
      "     Company  Year  Total Revenue  Net Income  Total Assets  \\\n",
      "0  Microsoft  2022       198270.0     72738.0      364840.0   \n",
      "1  Microsoft  2023       211915.0     72361.0      411976.0   \n",
      "2  Microsoft  2024       245122.0     88136.0      512163.0   \n",
      "3      Tesla  2022        81462.0     12587.0       82338.0   \n",
      "4      Tesla  2023        96773.0     14974.0      106618.0   \n",
      "5      Tesla  2024        97690.0      7153.0      122070.0   \n",
      "6      Apple  2022       394328.0     99803.0      352755.0   \n",
      "7      Apple  2023       383285.0     96995.0      352583.0   \n",
      "8      Apple  2024       391035.0     93736.0      364980.0   \n",
      "\n",
      "   Total Liabilities  Cash Flow  Revenue Growth (%)  Income Growth (%)  \n",
      "0           198298.0    89035.0            0.000000           0.000000  \n",
      "1           205753.0    87582.0            6.882030          -0.518299  \n",
      "2           243686.0   118548.0           15.669962          21.800417  \n",
      "3            36440.0    14724.0            0.000000           0.000000  \n",
      "4            43009.0    13256.0           18.795267          18.964010  \n",
      "5            48390.0    14923.0            0.947578         -52.230533  \n",
      "6           302083.0   118254.0            0.000000           0.000000  \n",
      "7           290437.0   110543.0           -2.800461          -2.813543  \n",
      "8           308030.0   118254.0            2.021994          -3.359967  \n"
     ]
    }
   ],
   "source": [
    "df['Revenue Growth (%)'] = df.groupby('Company')['Total Revenue'].pct_change() * 100\n",
    "df['Income Growth (%)'] = df.groupby('Company')['Net Income'].pct_change() * 100\n",
    "df.fillna(0, inplace=True)\n",
    "print(df)"
   ]
  },
  {
   "cell_type": "code",
   "execution_count": 32,
   "id": "d18803b8",
   "metadata": {},
   "outputs": [
    {
     "name": "stdout",
     "output_type": "stream",
     "text": [
      "     Company  Revenue Growth (%)  Income Growth (%)\n",
      "0      Apple           -0.259489          -2.057837\n",
      "1  Microsoft            7.517331           7.094040\n",
      "2      Tesla            6.580948         -11.088841\n"
     ]
    }
   ],
   "source": [
    "summary = df.groupby('Company').agg({\n",
    "    'Revenue Growth (%)': 'mean',\n",
    "    'Income Growth (%)': 'mean',\n",
    "}).reset_index()\n",
    "print(summary)"
   ]
  },
  {
   "cell_type": "code",
   "execution_count": 22,
   "id": "235c4225",
   "metadata": {},
   "outputs": [
    {
     "name": "stdout",
     "output_type": "stream",
     "text": [
      "Requirement already satisfied: pandas in c:\\users\\malav\\anaconda3\\lib\\site-packages (1.4.4)\n",
      "Requirement already satisfied: flask in c:\\users\\malav\\anaconda3\\lib\\site-packages (1.1.2)\n",
      "Requirement already satisfied: python-dateutil>=2.8.1 in c:\\users\\malav\\anaconda3\\lib\\site-packages (from pandas) (2.8.2)\n",
      "Requirement already satisfied: pytz>=2020.1 in c:\\users\\malav\\anaconda3\\lib\\site-packages (from pandas) (2022.1)\n",
      "Requirement already satisfied: numpy>=1.18.5 in c:\\users\\malav\\anaconda3\\lib\\site-packages (from pandas) (1.21.5)\n",
      "Requirement already satisfied: itsdangerous>=0.24 in c:\\users\\malav\\anaconda3\\lib\\site-packages (from flask) (2.0.1)\n",
      "Requirement already satisfied: Jinja2>=2.10.1 in c:\\users\\malav\\anaconda3\\lib\\site-packages (from flask) (2.11.3)\n",
      "Requirement already satisfied: click>=5.1 in c:\\users\\malav\\anaconda3\\lib\\site-packages (from flask) (8.0.4)\n",
      "Requirement already satisfied: Werkzeug>=0.15 in c:\\users\\malav\\anaconda3\\lib\\site-packages (from flask) (2.0.3)\n",
      "Requirement already satisfied: colorama in c:\\users\\malav\\anaconda3\\lib\\site-packages (from click>=5.1->flask) (0.4.5)\n",
      "Requirement already satisfied: MarkupSafe>=0.23 in c:\\users\\malav\\anaconda3\\lib\\site-packages (from Jinja2>=2.10.1->flask) (2.0.1)\n",
      "Requirement already satisfied: six>=1.5 in c:\\users\\malav\\anaconda3\\lib\\site-packages (from python-dateutil>=2.8.1->pandas) (1.16.0)\n"
     ]
    }
   ],
   "source": [
    "!pip install pandas flask"
   ]
  },
  {
   "cell_type": "code",
   "execution_count": 52,
   "id": "4c8ecaa5",
   "metadata": {},
   "outputs": [
    {
     "name": "stdout",
     "output_type": "stream",
     "text": [
      "Enter how many questions you want to ask: 10\n",
      "Ask financial question 1: what is the total net income?\n",
      "The total net income for all companies is 558,483.00 million.\n",
      "Ask financial question 2: what is the total net income in 2024?\n",
      "The total net income for all companies in 2024 is 189,025.00 million.\n",
      "Ask financial question 3: what is the total net income for microsoft in 2024?\n",
      "The net income for Microsoft in 2024 is 88,136.00 million.\n",
      "Ask financial question 4: what is the total net income for microsoft in 2023?\n",
      "The net income for Microsoft in 2023 is 72,361.00 million.\n",
      "Ask financial question 5: How has net income changed over the last year?\n",
      "The net income has increased by 4,695.00 million over the last year.\n",
      "Ask financial question 6: How has net income for microsoft changed over the last year?\n",
      "The net income for Microsoft has increased by 15,775.00 million over the last year.\n",
      "Ask financial question 7: total revenue?\n",
      "The total total revenue for all companies is 2,099,880.00 million.\n",
      "Ask financial question 8: which company has highest total revenue?\n",
      "The company with the highest total revenue in 2024 is Apple with 391,035.00 million.\n",
      "Ask financial question 9: which company has lowest total revenue?\n",
      "The company with the lowest total revenue in 2024 is Tesla with 97,690.00 million.\n",
      "Ask financial question 10: total revenue in 2024?\n",
      "The total total revenue for all companies in 2024 is 733,847.00 million.\n"
     ]
    }
   ],
   "source": [
    "import re\n",
    "\n",
    "def simple_chatbot(user_query, df, summary):\n",
    "    user_query = user_query.lower()\n",
    "\n",
    "    # Define financial metrics and their corresponding column names\n",
    "    financial_metrics = {\n",
    "        \"total revenue\": \"Total Revenue\",\n",
    "        \"net income\": \"Net Income\",\n",
    "        \"total assets\": \"Total Assets\",\n",
    "        \"total liabilities\": \"Total Liabilities\",\n",
    "        \"cash flow\": \"Cash Flow\",\n",
    "        \"revenue growth\": \"Revenue Growth (%)\",\n",
    "        \"income growth\": \"Income Growth (%)\",\n",
    "    }\n",
    "\n",
    "    # Extract the year if mentioned in the query\n",
    "    year_match = re.search(r'\\b(20\\d{2})\\b', user_query)\n",
    "    year = int(year_match.group(0)) if year_match else None\n",
    "\n",
    "    # Check if the query is asking about a change in financial metrics\n",
    "    if \"changed over the last year\" in user_query or \"compare\" in user_query:\n",
    "        # Identify if a company is mentioned in the query\n",
    "        matched_company = None\n",
    "        for company in summary['Company'].values:\n",
    "            if company.lower() in user_query:\n",
    "                matched_company = company\n",
    "                break\n",
    "\n",
    "        # Process the query for the change in financial metrics\n",
    "        for metric_key, column_name in financial_metrics.items():\n",
    "            if metric_key in user_query:\n",
    "                if matched_company:\n",
    "                    # Get data for the company\n",
    "                    company_data = df[df['Company'] == matched_company]\n",
    "                    last_year_data = company_data[company_data['Year'] == company_data['Year'].max() - 1]\n",
    "                    current_year_data = company_data[company_data['Year'] == company_data['Year'].max()]\n",
    "                    if last_year_data.empty or current_year_data.empty:\n",
    "                        return f\"No data found for {metric_key} of {matched_company} for the last two years.\"\n",
    "\n",
    "                    last_year_value = last_year_data[column_name].sum()\n",
    "                    current_year_value = current_year_data[column_name].sum()\n",
    "                    change = current_year_value - last_year_value\n",
    "                    change_message = \"increased\" if change > 0 else \"decreased\"\n",
    "                    return f\"The {metric_key} for {matched_company} has {change_message} by {abs(change):,.2f} million over the last year.\"\n",
    "\n",
    "                else:\n",
    "                    # Sum for all companies\n",
    "                    total_last_year = df[df['Year'] == df['Year'].max() - 1][column_name].sum()\n",
    "                    total_current_year = df[df['Year'] == df['Year'].max()][column_name].sum()\n",
    "                    change = total_current_year - total_last_year\n",
    "                    change_message = \"increased\" if change > 0 else \"decreased\"\n",
    "                    return f\"The {metric_key} has {change_message} by {abs(change):,.2f} million over the last year.\"\n",
    "\n",
    "    # Rest of your code for other queries like highest/lowest, total revenue, etc.\n",
    "    for metric_key, column_name in financial_metrics.items():\n",
    "        if any(keyword in user_query for keyword in [f\"highest {metric_key}\", f\"largest {metric_key}\", f\"most {metric_key}\"]):\n",
    "            find_max = True\n",
    "        elif any(keyword in user_query for keyword in [f\"lowest {metric_key}\", f\"smallest {metric_key}\", f\"least {metric_key}\"]):\n",
    "            find_max = False\n",
    "        else:\n",
    "            continue  # If neither, move to the next metric\n",
    "\n",
    "        # Filter data for the requested year or use the latest available\n",
    "        if year:\n",
    "            year_data = df[df[\"Year\"] == year]\n",
    "            if year_data.empty:\n",
    "                return f\"No data found for {metric_key} in {year}.\"\n",
    "        else:\n",
    "            year_data = df[df[\"Year\"] == df[\"Year\"].max()]  # Latest available year\n",
    "\n",
    "        # Find the company with the highest or lowest value for the metric\n",
    "        top_company = year_data.loc[year_data[column_name].idxmax()] if find_max else year_data.loc[year_data[column_name].idxmin()]\n",
    "        comparison_word = \"highest\" if find_max else \"lowest\"\n",
    "\n",
    "        return f\"The company with the {comparison_word} {metric_key} in {year if year else top_company['Year']} is {top_company['Company']} with {top_company[column_name]:,.2f} million.\"\n",
    "\n",
    "    # Identify the company in the query\n",
    "    matched_company = None\n",
    "    for company in summary['Company'].values:\n",
    "        if company.lower() in user_query:\n",
    "            matched_company = company\n",
    "            break\n",
    "\n",
    "    if matched_company:\n",
    "        # Get the most recent data for the matched company\n",
    "        latest_data = df[df['Company'] == matched_company].sort_values('Year', ascending=False).iloc[0]\n",
    "\n",
    "        # Check if the user is asking for a specific metric for a company\n",
    "        for metric_key, column_name in financial_metrics.items():\n",
    "            if metric_key in user_query:\n",
    "                # Fetch data for the requested year or the latest available\n",
    "                if year:\n",
    "                    year_data = df[(df['Company'] == matched_company) & (df['Year'] == year)]\n",
    "                    if year_data.empty:\n",
    "                        return f\"No data found for {metric_key} of {matched_company} in {year}.\"\n",
    "                    value = year_data.iloc[0][column_name]\n",
    "                else:\n",
    "                    value = latest_data[column_name]\n",
    "\n",
    "                return f\"The {metric_key} for {matched_company} in {year} is {value:,.2f} million.\" if year else f\"The {metric_key} for {matched_company} in 2024 is {value:,.2f} million.\"\n",
    "    else:\n",
    "        # If no company is mentioned, calculate the sum of all companies for the requested metric\n",
    "        for metric_key, column_name in financial_metrics.items():\n",
    "            if metric_key in user_query:\n",
    "                # Sum for all companies, optionally filtered by year\n",
    "                if year:\n",
    "                    year_data = df[df[\"Year\"] == year]\n",
    "                    total_value = year_data[column_name].sum()\n",
    "                    return f\"The total {metric_key} for all companies in {year} is {total_value:,.2f} million.\"\n",
    "                else:\n",
    "                    total_value = df[column_name].sum()\n",
    "                    return f\"The total {metric_key} for all companies is {total_value:,.2f} million.\"\n",
    "\n",
    "\n",
    "# Get user input for the number of questions\n",
    "n = int(input('Enter how many questions you want to ask: '))\n",
    "\n",
    "for i in range(n):\n",
    "    user_query = input(f\"Ask financial question {i+1}: \")\n",
    "    response = simple_chatbot(user_query, df, summary)\n",
    "    print(response)\n"
   ]
  }
 ],
 "metadata": {
  "kernelspec": {
   "display_name": "Python 3 (ipykernel)",
   "language": "python",
   "name": "python3"
  },
  "language_info": {
   "codemirror_mode": {
    "name": "ipython",
    "version": 3
   },
   "file_extension": ".py",
   "mimetype": "text/x-python",
   "name": "python",
   "nbconvert_exporter": "python",
   "pygments_lexer": "ipython3",
   "version": "3.9.13"
  }
 },
 "nbformat": 4,
 "nbformat_minor": 5
}
